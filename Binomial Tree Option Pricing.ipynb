{
 "cells": [
  {
   "cell_type": "code",
   "execution_count": 1,
   "metadata": {},
   "outputs": [],
   "source": [
    "import numpy as np\n",
    "import math\n",
    "from scipy.optimize import fsolve\n",
    "import matplotlib.pyplot as plt"
   ]
  },
  {
   "cell_type": "markdown",
   "metadata": {},
   "source": [
    "### Build Equity Option Base Class"
   ]
  },
  {
   "cell_type": "code",
   "execution_count": 2,
   "metadata": {},
   "outputs": [],
   "source": [
    "class EquityOption(object):\n",
    "    def __init__(self, K, N, v, S0=1, is_Euro=True):\n",
    "\n",
    "        '''\n",
    "        define all the common attributes for an option\n",
    "        S0: initial asset price is 1\n",
    "        K: the strike price of the option\n",
    "        N: number of time periods \n",
    "        v: the up factor of the stock tree is (1+v), the down factor of the stock tree is (1-v)\n",
    "        rf: the borrowing/lending interest rate for a single time period is 0.\n",
    "        p: the up and down probability of the binomial tree is 0.5\n",
    "        is_Euro: if the option is European style. If is_Euro = False then the option is American style \n",
    "    \n",
    "        '''\n",
    "        \n",
    "        self.S0 = 1\n",
    "        self.K = K\n",
    "        self.N = N\n",
    "        self.u = 1+v\n",
    "        self.d = 1-v\n",
    "        self.rf = 0\n",
    "        self.p = 0.5\n",
    "        self.is_Euro = True\n",
    "    \n",
    "        \n",
    "class BinomialOption(EquityOption):\n",
    "    def __init__(self, K, N, v, S0=1, is_Euro=True):\n",
    "        '''\n",
    "        Initialize the option and an empty price tree \n",
    "        '''\n",
    "        EquityOption.__init__(self, K, N, v, S0=1, is_Euro=True)\n",
    "        self.price_tree = [np.array([self.S0])]\n",
    "    \n",
    "    def get_price_tree(self):\n",
    "        return self.price_tree\n",
    "    \n",
    "    def set_price_tree(self):\n",
    "        '''\n",
    "        build the stock price tree based on n period binomial model \n",
    "        starting from the root going forward\n",
    "        '''\n",
    "        for i in range(1,self.N+1):\n",
    "            price_leafs = np.array([])\n",
    "            for j in range(i+1):\n",
    "                next_price = self.S0*( (self.u**j) * self.d**(i-j) )\n",
    "                price_leafs=np.append(price_leafs, next_price)\n",
    "            self.price_tree.append(price_leafs)\n",
    "        return self.price_tree\n"
   ]
  },
  {
   "cell_type": "markdown",
   "metadata": {},
   "source": [
    "### Question 1: Pricing European call option"
   ]
  },
  {
   "cell_type": "code",
   "execution_count": 3,
   "metadata": {},
   "outputs": [],
   "source": [
    "class EuropeanOption(BinomialOption):\n",
    "    '''\n",
    "    Price European option\n",
    "    '''\n",
    "    \n",
    "    def calc_payoff(self, price_tree):\n",
    "        '''\n",
    "        calculate the payoff at terminal node for a call option\n",
    "        '''\n",
    "        return np.maximum(self.price_tree[self.N] - self.K, 0)\n",
    "    \n",
    "    def discount_payoff(self, payoffs):\n",
    "        '''\n",
    "        Based on n period binomial model, the expected payoff at period N =/\n",
    "        dicsount factor(=1)*sum(payoff)*nCk*( p**k )*( (1-p)**(n-k) )\n",
    "        '''\n",
    "        expected_payoff = 0\n",
    "        for k in range(0,self.N+1): #k is the number of up movements in the terminal node\n",
    "            payoff = payoffs[k]\n",
    "            comb = math.factorial(self.N)/( math.factorial(k)*math.factorial(self.N-k) ) # combinations of k up movements out of n periods\n",
    "            expected_payoff += payoff*comb*(self.p**k)*(self.p**(self.N-k))\n",
    "            option = expected_payoff #since Rf=0\n",
    "            \n",
    "        return option\n",
    "            \n",
    "    def price_option(self):\n",
    "        price_tree = self.set_price_tree()\n",
    "        payoffs = self.calc_payoff(price_tree)\n",
    "        return self.discount_payoff(payoffs)"
   ]
  },
  {
   "cell_type": "code",
   "execution_count": 8,
   "metadata": {},
   "outputs": [
    {
     "name": "stdout",
     "output_type": "stream",
     "text": [
      "European call option price= 0.29374999999999996\n"
     ]
    }
   ],
   "source": [
    "eu_option = EuropeanOption(1.1, 3, 0.5)     \n",
    "# tr=eu_option.set_price_tree()\n",
    "# print(tr)\n",
    "#eu_option.calc_payoff(tr)\n",
    "print('European call option price=',eu_option.price_option())"
   ]
  },
  {
   "cell_type": "markdown",
   "metadata": {},
   "source": [
    "### Question 2: Calibrate v to given option value V"
   ]
  },
  {
   "cell_type": "code",
   "execution_count": 11,
   "metadata": {},
   "outputs": [],
   "source": [
    "def __calibrate_option__(v, K, N, V):\n",
    "    '''\n",
    "    V: given market European call option price\n",
    "    v is the variable, K, N and V are arguments\n",
    "    '''\n",
    "    option = EuropeanOption(K, N, v)    \n",
    "    option_price = option.price_option()\n",
    "    return option_price - V\n",
    "    \n",
    "def __calc_v__(K, N, V): \n",
    "    \n",
    "    guess = 0.1\n",
    "    arg = (K, N, V)\n",
    "    result = fsolve(__calibrate_option__, guess, args=arg)\n",
    "    \n",
    "    try:\n",
    "        v = result\n",
    "    except ValueError:\n",
    "        raise ValueError(result.message)\n",
    "    \n",
    "    return v[0]"
   ]
  },
  {
   "cell_type": "code",
   "execution_count": 13,
   "metadata": {},
   "outputs": [
    {
     "name": "stdout",
     "output_type": "stream",
     "text": [
      "Given K=1, N=3, V=0.34375, v= 0.5000000000000003\n"
     ]
    }
   ],
   "source": [
    "\n",
    "print('Given K=1, N=3, V=0.34375, v=',__calc_v__(1,3,0.34375))   "
   ]
  },
  {
   "cell_type": "markdown",
   "metadata": {},
   "source": [
    "### Question 3: Pricing American call option"
   ]
  },
  {
   "cell_type": "code",
   "execution_count": 14,
   "metadata": {},
   "outputs": [],
   "source": [
    "class AmericanOption(BinomialOption):\n",
    "    '''\n",
    "    Price American option\n",
    "    '''\n",
    "    \n",
    "    def calc_payoff(self, price_tree):\n",
    "        '''\n",
    "        calculate the payoff at terminal node for a call option\n",
    "        '''\n",
    "        return np.maximum(self.price_tree[self.N] - self.K, 0)\n",
    "    \n",
    "    def exercise_early(self, payoffs, period):\n",
    "        '''\n",
    "        If American option is exercised before maturity, compare the payoff max(St-K, 0) \n",
    "        with discounted value at each node\n",
    "        '''\n",
    "        return np.maximum(payoffs, self.price_tree[period]-self.K)\n",
    "    \n",
    "    def discount_payoff(self, payoffs):\n",
    "        for i in np.arange(self.N-1, -1, -1):\n",
    "            payoffs = (payoffs[:-1]+payoffs[1:])*self.p\n",
    "        \n",
    "        if not self.is_Euro:\n",
    "            payoffs = self.exercise_early(payoffs, i)\n",
    "        \n",
    "        option = payoffs[0]\n",
    "        return option\n",
    "            \n",
    "    def price_option(self):\n",
    "        price_tree = self.set_price_tree()\n",
    "        payoffs = self.calc_payoff(price_tree)\n",
    "        return self.discount_payoff(payoffs)"
   ]
  },
  {
   "cell_type": "code",
   "execution_count": 15,
   "metadata": {},
   "outputs": [
    {
     "name": "stdout",
     "output_type": "stream",
     "text": [
      "American call option price= 0.29374999999999996\n"
     ]
    }
   ],
   "source": [
    "am_option = AmericanOption(1.1, 3, 0.5, is_Euro=False)     \n",
    "print('American call option price=',am_option.price_option())"
   ]
  },
  {
   "cell_type": "markdown",
   "metadata": {},
   "source": [
    "### Question 4: Calculate the expected value of max(Sj)"
   ]
  },
  {
   "cell_type": "markdown",
   "metadata": {},
   "source": [
    "E[max(Sj)] \n",
    "<br>= E(max(S1, S2,..., SN))\n",
    "<br>= E(S1) * P(S1>=S1,...SN)+...+E(SN) * P(SN>=S1,...SN)\n",
    "<br>= P(S1>=S1,...SN)+P(S2>=S1,...SN)+...+P(SN>=S2,...SN) E(Sj) = 1 based on the below calculation\n",
    "<br>= 1\n",
    "    \n",
    "Thus we only need to show E(Sj)=1 for all 1<=j<=N"
   ]
  },
  {
   "cell_type": "code",
   "execution_count": 16,
   "metadata": {},
   "outputs": [],
   "source": [
    "def calc_exp_S(v, period, S0=1, p=0.5, Rf=0):\n",
    "    '''\n",
    "    Calculate the sum of expected value of Sn for each period n\n",
    "    Based on binomial model, E[Sn] = sum(S0*( u**k )*( d**(n-k))*nCk*( p**k )*( q**(n-k) ),\n",
    "    N, n:time period\n",
    "    k:number of upward movements\n",
    "    u,d = 1+v, 1-v: up and down factor\n",
    "    p = 0.5\n",
    "    '''\n",
    "    exp_S = 0\n",
    "    for k in range(period+1): #k = 0, ..., N\n",
    "        comb = math.factorial(period)/( math.factorial(k)*math.factorial(period-k) )\n",
    "        exp_S += S0*( (1+v)**k )*( (1-v)**(period-k) )*(p**period)*comb\n",
    "    return exp_S\n",
    "    \n",
    "def plot_exp_max_Sj(K, N, v):\n",
    "    '''\n",
    "    The function calulcates and plots the expected value of max(Sj) for different values of v\n",
    "\n",
    "    '''\n",
    "    all_exp_S = []\n",
    "    v_range = np.arange(0.0, 1.0, 0.1) \n",
    "    for v in v_range: \n",
    "        exp_S = calc_exp_S(v, N, S0=1, p=0.5, Rf=0)\n",
    "        all_exp_S.append(exp_S)\n",
    "\n",
    "    plt.figure()\n",
    "    plt.plot(v_range, all_exp_S)\n",
    "    plt.title('factor v VS E[S]')\n",
    "    plt.xlabel('v')\n",
    "    plt.ylabel('E[S]')\n",
    "    plt.show()     "
   ]
  },
  {
   "cell_type": "code",
   "execution_count": 18,
   "metadata": {},
   "outputs": [
    {
     "data": {
      "image/png": "[encoded data removed]",
      "text/plain": [
       "<Figure size 432x288 with 1 Axes>"
      ]
     },
     "metadata": {
      "needs_background": "light"
     },
     "output_type": "display_data"
    }
   ],
   "source": [
    "plot_exp_max_Sj(1, 4, 0.9)"
   ]
  },
  {
   "cell_type": "code",
   "execution_count": null,
   "metadata": {},
   "outputs": [],
   "source": []
  }
 ],
 "metadata": {
  "kernelspec": {
   "display_name": "Python 3",
   "language": "python",
   "name": "python3"
  },
  "language_info": {
   "codemirror_mode": {
    "name": "ipython",
    "version": 3
   },
   "file_extension": ".py",
   "mimetype": "text/x-python",
   "name": "python",
   "nbconvert_exporter": "python",
   "pygments_lexer": "ipython3",
   "version": "3.7.4"
  }
 },
 "nbformat": 4,
 "nbformat_minor": 2
}
